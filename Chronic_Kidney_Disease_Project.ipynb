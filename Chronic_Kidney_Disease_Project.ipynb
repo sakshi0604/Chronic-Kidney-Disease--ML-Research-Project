{
  "nbformat": 4,
  "nbformat_minor": 0,
  "metadata": {
    "colab": {
      "provenance": []
    },
    "kernelspec": {
      "name": "python3",
      "display_name": "Python 3"
    },
    "language_info": {
      "name": "python"
    }
  },
  "cells": [
    {
      "cell_type": "code",
      "execution_count": null,
      "metadata": {
        "id": "BL5dj-_SHjGL"
      },
      "outputs": [],
      "source": [
        "import numpy as np\n",
        "import pandas as pd\n",
        "import matplotlib.pyplot as plt\n",
        "from dateutil import tz\n",
        "from sklearn.model_selection import cross_val_score\n",
        "from sklearn.ensemble import RandomForestClassifier\n",
        "from xgboost import XGBClassifier\n",
        "from sklearn.svm import SVC\n",
        "from sklearn.model_selection import GridSearchCV\n",
        "from sklearn.ensemble import RandomForestClassifier\n",
        "from xgboost import XGBClassifier\n",
        "from sklearn.svm import SVC\n",
        "from sklearn.metrics import classification_report\n",
        "from sklearn.model_selection import train_test_split\n",
        "from sklearn.ensemble import RandomForestClassifier\n",
        "from xgboost import XGBClassifier\n",
        "from sklearn.svm import SVC\n",
        "from sklearn.metrics import accuracy_score\n",
        "from sklearn.feature_selection import SelectKBest, f_classif\n",
        "from sklearn.metrics import classification_report, confusion_matrix, roc_curve, auc"
      ]
    },
    {
      "cell_type": "code",
      "source": [
        "!wget https://www.dropbox.com/scl/fi/e2y5m0h9qbr9sni6f2wdm/kidney_disease.csv?rlkey=ejadxsf7xnn5hzabo604a30k3&dl=0"
      ],
      "metadata": {
        "id": "yyJC9S6z8jA-",
        "colab": {
          "base_uri": "https://localhost:8080/"
        },
        "outputId": "e5a4ffbc-2c58-4ae4-8074-9decdbe1eeeb"
      },
      "execution_count": null,
      "outputs": [
        {
          "output_type": "stream",
          "name": "stdout",
          "text": [
            "--2023-09-10 21:23:43--  https://www.dropbox.com/scl/fi/e2y5m0h9qbr9sni6f2wdm/kidney_disease.csv?rlkey=ejadxsf7xnn5hzabo604a30k3\n",
            "Resolving www.dropbox.com (www.dropbox.com)... 162.125.5.18, 2620:100:601d:18::a27d:512\n",
            "Connecting to www.dropbox.com (www.dropbox.com)|162.125.5.18|:443... connected.\n",
            "HTTP request sent, awaiting response... 302 Found\n",
            "Location: https://www.dropbox.com/e/scl/fi/e2y5m0h9qbr9sni6f2wdm/kidney_disease.csv?rlkey=ejadxsf7xnn5hzabo604a30k3 [following]\n",
            "--2023-09-10 21:23:43--  https://www.dropbox.com/e/scl/fi/e2y5m0h9qbr9sni6f2wdm/kidney_disease.csv?rlkey=ejadxsf7xnn5hzabo604a30k3\n",
            "Reusing existing connection to www.dropbox.com:443.\n",
            "HTTP request sent, awaiting response... 302 Found\n",
            "Location: https://uce9ed76fca3022f652d79e929d5.dl.dropboxusercontent.com/cd/0/inline/CDfX4VMqRLMt0CL5kQ_BChCap1QeLrsrphyE5MoPayl8QWXvbuVH-1pokfqCAgYnZinTxcPXPKfz9p8EpAEgwKW72QQ5PFALas8czN3f3ZABZuawOGzYyF37_x2D44W2ajOa8JZtafzBN2eJrCUStCXZ/file# [following]\n",
            "--2023-09-10 21:23:44--  https://uce9ed76fca3022f652d79e929d5.dl.dropboxusercontent.com/cd/0/inline/CDfX4VMqRLMt0CL5kQ_BChCap1QeLrsrphyE5MoPayl8QWXvbuVH-1pokfqCAgYnZinTxcPXPKfz9p8EpAEgwKW72QQ5PFALas8czN3f3ZABZuawOGzYyF37_x2D44W2ajOa8JZtafzBN2eJrCUStCXZ/file\n",
            "Resolving uce9ed76fca3022f652d79e929d5.dl.dropboxusercontent.com (uce9ed76fca3022f652d79e929d5.dl.dropboxusercontent.com)... 162.125.5.15, 2620:100:601d:15::a27d:50f\n",
            "Connecting to uce9ed76fca3022f652d79e929d5.dl.dropboxusercontent.com (uce9ed76fca3022f652d79e929d5.dl.dropboxusercontent.com)|162.125.5.15|:443... connected.\n",
            "HTTP request sent, awaiting response... 200 OK\n",
            "Length: 48551 (47K) [text/plain]\n",
            "Saving to: ‘kidney_disease.csv?rlkey=ejadxsf7xnn5hzabo604a30k3.1’\n",
            "\n",
            "kidney_disease.csv? 100%[===================>]  47.41K  --.-KB/s    in 0.03s   \n",
            "\n",
            "2023-09-10 21:23:45 (1.68 MB/s) - ‘kidney_disease.csv?rlkey=ejadxsf7xnn5hzabo604a30k3.1’ saved [48551/48551]\n",
            "\n"
          ]
        }
      ]
    },
    {
      "cell_type": "code",
      "source": [
        "# Read the CSV file\n",
        "df = pd.read_csv('kidney_disease.csv?rlkey=ejadxsf7xnn5hzabo604a30k3')\n",
        "\n",
        "# Display the DataFrame\n",
        "print(df)"
      ],
      "metadata": {
        "id": "oD4dKZWI9Crm",
        "colab": {
          "base_uri": "https://localhost:8080/"
        },
        "outputId": "1229e5e1-228a-41ff-89da-3a14cda0cb07"
      },
      "execution_count": null,
      "outputs": [
        {
          "output_type": "stream",
          "name": "stdout",
          "text": [
            "      id   age    bp     sg   al   su     rbc        pc         pcc          ba    bgr    bu   sc    sod  pot  hemo pcv    wc   rc  htn   dm cad appet   pe  ane classification\n",
            "0      0  48.0  80.0  1.020  1.0  0.0     NaN    normal  notpresent  notpresent  121.0  36.0  1.2    NaN  NaN  15.4  44  7800  5.2  yes  yes  no  good   no   no            ckd\n",
            "1      1   7.0  50.0  1.020  4.0  0.0     NaN    normal  notpresent  notpresent    NaN  18.0  0.8    NaN  NaN  11.3  38  6000  NaN   no   no  no  good   no   no            ckd\n",
            "2      2  62.0  80.0  1.010  2.0  3.0  normal    normal  notpresent  notpresent  423.0  53.0  1.8    NaN  NaN   9.6  31  7500  NaN   no  yes  no  poor   no  yes            ckd\n",
            "3      3  48.0  70.0  1.005  4.0  0.0  normal  abnormal     present  notpresent  117.0  56.0  3.8  111.0  2.5  11.2  32  6700  3.9  yes   no  no  poor  yes  yes            ckd\n",
            "4      4  51.0  80.0  1.010  2.0  0.0  normal    normal  notpresent  notpresent  106.0  26.0  1.4    NaN  NaN  11.6  35  7300  4.6   no   no  no  good   no   no            ckd\n",
            "..   ...   ...   ...    ...  ...  ...     ...       ...         ...         ...    ...   ...  ...    ...  ...   ...  ..   ...  ...  ...  ...  ..   ...  ...  ...            ...\n",
            "395  395  55.0  80.0  1.020  0.0  0.0  normal    normal  notpresent  notpresent  140.0  49.0  0.5  150.0  4.9  15.7  47  6700  4.9   no   no  no  good   no   no         notckd\n",
            "396  396  42.0  70.0  1.025  0.0  0.0  normal    normal  notpresent  notpresent   75.0  31.0  1.2  141.0  3.5  16.5  54  7800  6.2   no   no  no  good   no   no         notckd\n",
            "397  397  12.0  80.0  1.020  0.0  0.0  normal    normal  notpresent  notpresent  100.0  26.0  0.6  137.0  4.4  15.8  49  6600  5.4   no   no  no  good   no   no         notckd\n",
            "398  398  17.0  60.0  1.025  0.0  0.0  normal    normal  notpresent  notpresent  114.0  50.0  1.0  135.0  4.9  14.2  51  7200  5.9   no   no  no  good   no   no         notckd\n",
            "399  399  58.0  80.0  1.025  0.0  0.0  normal    normal  notpresent  notpresent  131.0  18.0  1.1  141.0  3.5  15.8  53  6800  6.1   no   no  no  good   no   no         notckd\n",
            "\n",
            "[400 rows x 26 columns]\n"
          ]
        }
      ]
    },
    {
      "cell_type": "code",
      "source": [
        "import pandas as pd\n",
        "\n",
        "# Read the CSV file\n",
        "\n",
        "# Drop rows with any NaN values\n",
        "df.dropna(inplace=True)\n",
        "\n",
        "# Modify column names in the numeric_features list\n",
        "numeric_features = ['age', 'bp', 'sg', 'al', 'su', 'bgr', 'bu', 'sc', 'sod', 'pot', 'hemo', 'pcv', 'wc', 'rc']\n",
        "numeric_features = [col.replace(' ', '_') for col in numeric_features]\n",
        "\n",
        "# Convert numeric features to floats\n",
        "df[numeric_features] = df[numeric_features].astype(float)\n",
        "\n",
        "# Rename columns for better readability\n",
        "column_names = {\n",
        "    'age': 'Age',\n",
        "    'bp': 'Blood_Pressure',\n",
        "    'sg': 'Specific_Gravity',\n",
        "    'al': 'Albumin',\n",
        "    'su': 'Sugar',\n",
        "    'bgr': 'Blood_Glucose_Random',\n",
        "    'bu': 'Blood_Urea',\n",
        "    'sc': 'Serum_Creatinine',\n",
        "    'sod': 'Sodium',\n",
        "    'pot': 'Potassium',\n",
        "    'hemo': 'Hemoglobin',\n",
        "    'pcv': 'Packed_Cell_Volume',\n",
        "    'wc': 'White_Blood_Cell_Count',\n",
        "    'rc': 'Red_Blood_Cell_Count',\n",
        "    'classification': 'Classification'\n",
        "}\n",
        "\n",
        "df.rename(columns=column_names, inplace=True)\n",
        "\n",
        "# Set display options for better alignment\n",
        "pd.set_option('display.max_columns', None)  # Display all columns\n",
        "pd.set_option('display.width', 1000)  # Set display width\n",
        "\n",
        "# Display beautified dataset\n",
        "print(df)\n",
        "\n",
        "\n"
      ],
      "metadata": {
        "id": "BRLFO3oM-K7U",
        "colab": {
          "base_uri": "https://localhost:8080/"
        },
        "outputId": "9109c3f3-aa33-4a86-c8cf-9939b941a023"
      },
      "execution_count": null,
      "outputs": [
        {
          "output_type": "stream",
          "name": "stdout",
          "text": [
            "      id   Age  Blood_Pressure  Specific_Gravity  Albumin  Sugar       rbc        pc         pcc          ba  Blood_Glucose_Random  Blood_Urea  Serum_Creatinine  Sodium  Potassium  Hemoglobin  Packed_Cell_Volume  White_Blood_Cell_Count  Red_Blood_Cell_Count  htn   dm  cad appet   pe  ane Classification\n",
            "3      3  48.0            70.0             1.005      4.0    0.0    normal  abnormal     present  notpresent                 117.0        56.0               3.8   111.0        2.5        11.2                32.0                  6700.0                   3.9  yes   no   no  poor  yes  yes            ckd\n",
            "9      9  53.0            90.0             1.020      2.0    0.0  abnormal  abnormal     present  notpresent                  70.0       107.0               7.2   114.0        3.7         9.5                29.0                 12100.0                   3.7  yes  yes   no  poor   no  yes            ckd\n",
            "11    11  63.0            70.0             1.010      3.0    0.0  abnormal  abnormal     present  notpresent                 380.0        60.0               2.7   131.0        4.2        10.8                32.0                  4500.0                   3.8  yes  yes   no  poor  yes   no            ckd\n",
            "14    14  68.0            80.0             1.010      3.0    2.0    normal  abnormal     present     present                 157.0        90.0               4.1   130.0        6.4         5.6                16.0                 11000.0                   2.6  yes  yes  yes  poor  yes   no            ckd\n",
            "20    20  61.0            80.0             1.015      2.0    0.0  abnormal  abnormal  notpresent  notpresent                 173.0       148.0               3.9   135.0        5.2         7.7                24.0                  9200.0                   3.2  yes  yes  yes  poor  yes  yes            ckd\n",
            "..   ...   ...             ...               ...      ...    ...       ...       ...         ...         ...                   ...         ...               ...     ...        ...         ...                 ...                     ...                   ...  ...  ...  ...   ...  ...  ...            ...\n",
            "395  395  55.0            80.0             1.020      0.0    0.0    normal    normal  notpresent  notpresent                 140.0        49.0               0.5   150.0        4.9        15.7                47.0                  6700.0                   4.9   no   no   no  good   no   no         notckd\n",
            "396  396  42.0            70.0             1.025      0.0    0.0    normal    normal  notpresent  notpresent                  75.0        31.0               1.2   141.0        3.5        16.5                54.0                  7800.0                   6.2   no   no   no  good   no   no         notckd\n",
            "397  397  12.0            80.0             1.020      0.0    0.0    normal    normal  notpresent  notpresent                 100.0        26.0               0.6   137.0        4.4        15.8                49.0                  6600.0                   5.4   no   no   no  good   no   no         notckd\n",
            "398  398  17.0            60.0             1.025      0.0    0.0    normal    normal  notpresent  notpresent                 114.0        50.0               1.0   135.0        4.9        14.2                51.0                  7200.0                   5.9   no   no   no  good   no   no         notckd\n",
            "399  399  58.0            80.0             1.025      0.0    0.0    normal    normal  notpresent  notpresent                 131.0        18.0               1.1   141.0        3.5        15.8                53.0                  6800.0                   6.1   no   no   no  good   no   no         notckd\n",
            "\n",
            "[158 rows x 26 columns]\n"
          ]
        }
      ]
    },
    {
      "cell_type": "code",
      "source": [
        "\n",
        "\n",
        "# List of categorical feature column names\n",
        "categorical_features = ['rbc', 'pc', 'pcc', 'ba', 'htn', 'dm', 'cad', 'appet', 'pe', 'ane']\n",
        "\n",
        "# Perform one-hot encoding on categorical features\n",
        "df_encoded = pd.get_dummies(df, columns=categorical_features)\n",
        "\n",
        "# Feature selection using ANOVA F-value\n",
        "num_features_to_select = 10  # Adjust this as needed\n",
        "selector = SelectKBest(score_func=f_classif, k=num_features_to_select)\n",
        "X_new = selector.fit_transform(df_encoded.drop(columns=['Classification']), df_encoded['Classification'])\n",
        "selected_indices = selector.get_support(indices=True)\n",
        "selected_features = df_encoded.drop(columns=['Classification']).columns[selected_indices]\n",
        "\n",
        "# Split Dataset\n",
        "X = X_new  # Features with selected features\n",
        "y = df_encoded['Classification']  # Target\n",
        "\n",
        "# Split dataset into train and test sets (80:20 ratio)\n",
        "X_train, X_test, y_train, y_test = train_test_split(X, y, test_size=0.2, random_state=42)\n",
        "\n",
        "from sklearn.preprocessing import LabelEncoder\n",
        "\n",
        "# Encode target classes into numeric values\n",
        "label_encoder = LabelEncoder()\n",
        "y_train_encoded = label_encoder.fit_transform(y_train)\n",
        "y_test_encoded = label_encoder.transform(y_test)\n",
        "\n",
        "# Model Selection and Training\n",
        "model_rf = RandomForestClassifier()\n",
        "model_xgb = XGBClassifier()\n",
        "model_svm = SVC(probability=True)  # Set probability=True for SVC\n",
        "\n",
        "# Train the models on the training data\n",
        "model_rf.fit(X_train, y_train_encoded)\n",
        "model_xgb.fit(X_train, y_train_encoded)\n",
        "model_svm.fit(X_train, y_train_encoded)\n",
        "\n",
        "# Model Evaluation\n",
        "y_pred_rf = model_rf.predict(X_test)\n",
        "y_pred_xgb = model_xgb.predict(X_test)\n",
        "y_pred_svm = model_svm.predict(X_test)\n",
        "\n",
        "# Calculate probabilities for ROC\n",
        "y_prob_rf = model_rf.predict_proba(X_test)[:, 1]\n",
        "y_prob_xgb = model_xgb.predict_proba(X_test)[:, 1]\n",
        "y_prob_svm = model_svm.predict_proba(X_test)[:, 1]\n",
        "\n",
        "# Convert predictions back to original class labels\n",
        "y_pred_rf_original = label_encoder.inverse_transform(y_pred_rf)\n",
        "y_pred_xgb_original = label_encoder.inverse_transform(y_pred_xgb)\n",
        "y_pred_svm_original = label_encoder.inverse_transform(y_pred_svm)\n",
        "\n",
        "accuracy_rf = accuracy_score(y_test_encoded, y_pred_rf)\n",
        "accuracy_xgb = accuracy_score(y_test_encoded, y_pred_xgb)\n",
        "accuracy_svm = accuracy_score(y_test_encoded, y_pred_svm)\n",
        "\n",
        "# Display accuracy of each model\n",
        "print(\"Random Forest Accuracy:\", accuracy_rf)\n",
        "print(\"XGBoost Accuracy:\", accuracy_xgb)\n",
        "print(\"SVM Accuracy:\", accuracy_svm)\n",
        "\n",
        "\n",
        "\n"
      ],
      "metadata": {
        "id": "Ncu-MgDSlWbj",
        "colab": {
          "base_uri": "https://localhost:8080/"
        },
        "outputId": "17b07bbc-b25d-4d5d-e7f8-5fe3943c25a0"
      },
      "execution_count": null,
      "outputs": [
        {
          "output_type": "stream",
          "name": "stdout",
          "text": [
            "Random Forest Accuracy: 1.0\n",
            "XGBoost Accuracy: 1.0\n",
            "SVM Accuracy: 1.0\n"
          ]
        }
      ]
    },
    {
      "cell_type": "code",
      "source": [
        "from sklearn.metrics import f1_score, precision_score\n",
        "\n",
        "# Calculate F1-score for each model\n",
        "f1_rf = f1_score(y_test_encoded, y_pred_rf, average='weighted')\n",
        "f1_xgb = f1_score(y_test_encoded, y_pred_xgb, average='weighted')\n",
        "f1_svm = f1_score(y_test_encoded, y_pred_svm, average='weighted')\n",
        "\n",
        "# Calculate precision for each model\n",
        "precision_rf = precision_score(y_test_encoded, y_pred_rf, average='weighted')\n",
        "precision_xgb = precision_score(y_test_encoded, y_pred_xgb, average='weighted')\n",
        "precision_svm = precision_score(y_test_encoded, y_pred_svm, average='weighted')\n",
        "\n",
        "# Display F1-score and precision for each model\n",
        "print(\"Random Forest F1-score:\", f1_rf)\n",
        "print(\"XGBoost F1-score:\", f1_xgb)\n",
        "print(\"SVM F1-score:\", f1_svm)\n",
        "\n",
        "print(\"Random Forest Precision:\", precision_rf)\n",
        "print(\"XGBoost Precision:\", precision_xgb)\n",
        "print(\"SVM Precision:\", precision_svm)\n"
      ],
      "metadata": {
        "id": "HJcCkrnF-HeM",
        "colab": {
          "base_uri": "https://localhost:8080/"
        },
        "outputId": "5c982278-785a-4d07-923f-3f4a25de1799"
      },
      "execution_count": null,
      "outputs": [
        {
          "output_type": "stream",
          "name": "stdout",
          "text": [
            "Random Forest F1-score: 1.0\n",
            "XGBoost F1-score: 1.0\n",
            "SVM F1-score: 1.0\n",
            "Random Forest Precision: 1.0\n",
            "XGBoost Precision: 1.0\n",
            "SVM Precision: 1.0\n"
          ]
        }
      ]
    },
    {
      "cell_type": "code",
      "source": [
        "from sklearn.model_selection import cross_val_score\n",
        "from sklearn.ensemble import RandomForestClassifier\n",
        "from xgboost import XGBClassifier\n",
        "from sklearn.svm import SVC\n",
        "\n",
        "# List of categorical feature column names\n",
        "categorical_features = ['rbc', 'pc', 'pcc', 'ba', 'htn', 'dm', 'cad', 'appet', 'pe', 'ane']\n",
        "\n",
        "# Perform one-hot encoding on categorical features\n",
        "df_encoded = pd.get_dummies(df, columns=categorical_features)\n",
        "\n",
        "# Split Dataset\n",
        "X = df_encoded.drop(columns=['Classification'])  # Features\n",
        "y = df_encoded['Classification']  # Target\n",
        "\n",
        "from sklearn.preprocessing import LabelEncoder\n",
        "\n",
        "# Encode target classes into numeric values\n",
        "label_encoder = LabelEncoder()\n",
        "y_encoded = label_encoder.fit_transform(y)\n",
        "\n",
        "# Model Selection and Training\n",
        "model_rf = RandomForestClassifier()\n",
        "model_xgb = XGBClassifier()\n",
        "model_svm = SVC(probability=True)\n",
        "\n"
      ],
      "metadata": {
        "id": "sRIstnzs0oFA"
      },
      "execution_count": null,
      "outputs": []
    },
    {
      "cell_type": "code",
      "source": [
        "# Perform k-fold cross-validation\n",
        "cv_scores_rf = cross_val_score(model_rf, X, y_encoded, cv=5)\n",
        "cv_scores_xgb = cross_val_score(model_xgb, X, y_encoded, cv=5)\n",
        "cv_scores_svm = cross_val_score(model_svm, X, y_encoded, cv=5)\n",
        "\n",
        "# Calculate mean accuracy for each model\n",
        "mean_accuracy_rf = cv_scores_rf.mean()\n",
        "mean_accuracy_xgb = cv_scores_xgb.mean()\n",
        "mean_accuracy_svm = cv_scores_svm.mean()\n",
        "\n",
        "# Display cross-validation scores and mean accuracy\n",
        "print(\"Random Forest Cross-Validation Scores:\", cv_scores_rf)\n",
        "print(\"XGBoost Cross-Validation Scores:\", cv_scores_xgb)\n",
        "print(\"SVM Cross-Validation Scores:\", cv_scores_svm)\n",
        "print(\"Mean Accuracy (Random Forest):\", mean_accuracy_rf)\n",
        "print(\"Mean Accuracy (XGBoost):\", mean_accuracy_xgb)\n",
        "print(\"Mean Accuracy (SVM):\", mean_accuracy_svm)\n"
      ],
      "metadata": {
        "colab": {
          "base_uri": "https://localhost:8080/"
        },
        "id": "eNYrD1zE-f7-",
        "outputId": "6f360467-5b40-4ecc-d1bc-9568a27f1300"
      },
      "execution_count": null,
      "outputs": [
        {
          "output_type": "stream",
          "name": "stdout",
          "text": [
            "Random Forest Cross-Validation Scores: [1. 1. 1. 1. 1.]\n",
            "XGBoost Cross-Validation Scores: [0.59375    1.         1.         1.         0.87096774]\n",
            "SVM Cross-Validation Scores: [0.75       0.78125    0.8125     0.83870968 0.77419355]\n",
            "Mean Accuracy (Random Forest): 1.0\n",
            "Mean Accuracy (XGBoost): 0.8929435483870968\n",
            "Mean Accuracy (SVM): 0.7913306451612904\n"
          ]
        }
      ]
    },
    {
      "cell_type": "code",
      "source": [
        "import matplotlib.pyplot as plt\n",
        "\n",
        "# List of model names\n",
        "model_names = ['Random Forest', 'XGBoost', 'SVM']\n",
        "\n",
        "# List of mean accuracies\n",
        "mean_accuracies = [mean_accuracy_rf, mean_accuracy_xgb, mean_accuracy_svm]\n",
        "\n",
        "# Create a bar chart to visualize mean accuracies\n",
        "plt.bar(model_names, mean_accuracies, color=['blue', 'green', 'red'])\n",
        "plt.xlabel('Models')\n",
        "plt.ylabel('Mean Accuracy')\n",
        "plt.title('Mean Accuracy Comparison of Different Models')\n",
        "plt.ylim(0, 1.0)  # Set the y-axis range\n",
        "plt.show()\n"
      ],
      "metadata": {
        "colab": {
          "base_uri": "https://localhost:8080/",
          "height": 472
        },
        "id": "9s-NRhB37SM7",
        "outputId": "91beafab-7832-48e1-e8b3-f0d5cb7898e3"
      },
      "execution_count": null,
      "outputs": [
        {
          "output_type": "display_data",
          "data": {
            "text/plain": [
              "<Figure size 640x480 with 1 Axes>"
            ],
            "image/png": "[encoded data removed]"
          },
          "metadata": {}
        }
      ]
    },
    {
      "cell_type": "code",
      "source": [
        "# Define parameter grids for each model\n",
        "param_grid_rf = {\n",
        "    'n_estimators': [100, 200, 300],\n",
        "    'max_depth': [None, 10, 20],\n",
        "    'min_samples_split': [2, 5, 10],\n",
        "    'min_samples_leaf': [1, 2, 4]\n",
        "}\n",
        "\n",
        "param_grid_xgb = {\n",
        "    'n_estimators': [100, 200, 300],\n",
        "    'max_depth': [3, 4, 5],\n",
        "    'learning_rate': [0.01, 0.1, 0.2],\n",
        "    'subsample': [0.8, 1.0],\n",
        "    'colsample_bytree': [0.8, 1.0]\n",
        "}\n",
        "\n",
        "param_grid_svm = {\n",
        "    'C': [0.1, 1, 10],\n",
        "    'kernel': ['linear', 'rbf', 'poly'],\n",
        "    'gamma': ['scale', 'auto']\n",
        "}\n",
        "\n",
        "# Perform grid search with cross-validation for each model\n",
        "grid_search_rf = GridSearchCV(RandomForestClassifier(), param_grid_rf, cv=5)\n",
        "grid_search_xgb = GridSearchCV(XGBClassifier(), param_grid_xgb, cv=5)\n",
        "grid_search_svm = GridSearchCV(SVC(), param_grid_svm, cv=5)\n",
        "\n",
        "grid_search_rf.fit(X_train, y_train_encoded)\n",
        "grid_search_xgb.fit(X_train, y_train_encoded)\n",
        "grid_search_svm.fit(X_train, y_train_encoded)\n",
        "\n",
        "best_rf = grid_search_rf.best_estimator_\n",
        "best_xgb = grid_search_xgb.best_estimator_\n",
        "best_svm = grid_search_svm.best_estimator_\n",
        "\n",
        "# Evaluate the best models\n",
        "y_pred_best_rf = best_rf.predict(X_test)\n",
        "y_pred_best_xgb = best_xgb.predict(X_test)\n",
        "y_pred_best_svm = best_svm.predict(X_test)\n",
        "\n",
        "print(\"Best Random Forest Model:\")\n",
        "print(classification_report(y_test_encoded, y_pred_best_rf))\n",
        "\n",
        "print(\"Best XGBoost Model:\")\n",
        "print(classification_report(y_test_encoded, y_pred_best_xgb))\n",
        "\n",
        "print(\"Best SVM Model:\")\n",
        "print(classification_report(y_test_encoded, y_pred_best_svm))\n"
      ],
      "metadata": {
        "colab": {
          "base_uri": "https://localhost:8080/"
        },
        "id": "Gq-Q0sG_tQeZ",
        "outputId": "e1df246a-4f82-46f1-8a0f-c9dbcb5b15c5"
      },
      "execution_count": null,
      "outputs": [
        {
          "output_type": "stream",
          "name": "stdout",
          "text": [
            "Best Random Forest Model:\n",
            "              precision    recall  f1-score   support\n",
            "\n",
            "           0       1.00      1.00      1.00         9\n",
            "           1       1.00      1.00      1.00        23\n",
            "\n",
            "    accuracy                           1.00        32\n",
            "   macro avg       1.00      1.00      1.00        32\n",
            "weighted avg       1.00      1.00      1.00        32\n",
            "\n",
            "Best XGBoost Model:\n",
            "              precision    recall  f1-score   support\n",
            "\n",
            "           0       1.00      1.00      1.00         9\n",
            "           1       1.00      1.00      1.00        23\n",
            "\n",
            "    accuracy                           1.00        32\n",
            "   macro avg       1.00      1.00      1.00        32\n",
            "weighted avg       1.00      1.00      1.00        32\n",
            "\n",
            "Best SVM Model:\n",
            "              precision    recall  f1-score   support\n",
            "\n",
            "           0       1.00      1.00      1.00         9\n",
            "           1       1.00      1.00      1.00        23\n",
            "\n",
            "    accuracy                           1.00        32\n",
            "   macro avg       1.00      1.00      1.00        32\n",
            "weighted avg       1.00      1.00      1.00        32\n",
            "\n"
          ]
        }
      ]
    },
    {
      "cell_type": "markdown",
      "source": [
        "Cross-Validation Scores:\n",
        "\n",
        "For Random Forest, all five cross-validation scores are 1.0. This means that in every fold of cross-validation, the accuracy of the Random Forest model was 100%, indicating that it made correct predictions for all instances in each fold.\n",
        "For XGBoost, the cross-validation scores are a bit varied. They range from 0.59375 to 1.0. In some folds, the accuracy was lower (0.59375) while in others it was perfect (1.0). This suggests that XGBoost performed differently across different splits of the data.\n",
        "For SVM, the cross-validation scores vary as well, ranging from 0.75 to 0.83870968. Similar to XGBoost, the accuracy of SVM varies across different folds.\n",
        "Mean Accuracy:\n",
        "\n",
        "The mean accuracy is the average of the cross-validation scores for each model. It gives us an overall idea of how well the model is performing across different folds of the data.\n",
        "For Random Forest, the mean accuracy is 1.0, which means it consistently achieved 100% accuracy across all cross-validation folds.\n",
        "For XGBoost, the mean accuracy is 0.8929435483870968, which is lower than 1.0. This indicates that while XGBoost performed well on average, it did have some variability in its accuracy across different folds.\n",
        "For SVM, the mean accuracy is 0.7913306451612904, which is lower than both Random Forest and XGBoost. This suggests that SVM had a lower average accuracy compared to the other two models.\n",
        "Overall, the results show that Random Forest had the highest and most consistent accuracy across cross-validation folds, followed by XGBoost, and then SVM. Keep in mind that cross-validation helps us assess the models' generalization performance and identify how well they are likely to perform on new, unseen data. In this case, Random Forest appears to be the most promising model based on these results."
      ],
      "metadata": {
        "id": "GFM2-Pfq05jJ"
      }
    }
  ]
}